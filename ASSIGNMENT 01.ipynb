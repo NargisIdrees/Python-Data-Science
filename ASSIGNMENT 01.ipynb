{
 "cells": [
  {
   "cell_type": "code",
   "execution_count": null,
   "id": "214990a3",
   "metadata": {},
   "outputs": [],
   "source": [
    "#Write a program to iterate the first 10 numbers, and in each iteration, print the sum of the current and previous number."
   ]
  },
  {
   "cell_type": "code",
   "execution_count": 3,
   "id": "3b58a364",
   "metadata": {},
   "outputs": [
    {
     "name": "stdout",
     "output_type": "stream",
     "text": [
      "The sum of 0 and 0 is: 0\n",
      "The sum of 1 and 0 is: 1\n",
      "The sum of 2 and 1 is: 3\n",
      "The sum of 3 and 2 is: 5\n",
      "The sum of 4 and 3 is: 7\n",
      "The sum of 5 and 4 is: 9\n",
      "The sum of 6 and 5 is: 11\n",
      "The sum of 7 and 6 is: 13\n",
      "The sum of 8 and 7 is: 15\n",
      "The sum of 9 and 8 is: 17\n"
     ]
    }
   ],
   "source": [
    "for i in range(10):\n",
    "    if i == 0:\n",
    "        current_number = i\n",
    "        previous_number = 0\n",
    "    else:\n",
    "        current_number = i\n",
    "        previous_number = i - 1\n",
    "\n",
    "    sum_result = current_number + previous_number\n",
    "    print(f\"The sum of {current_number} and {previous_number} is: {sum_result}\")\n"
   ]
  },
  {
   "cell_type": "code",
   "execution_count": null,
   "id": "1554bad0",
   "metadata": {},
   "outputs": [],
   "source": [
    "#Print the following pattern\n",
    "#1\n",
    "#2 2\n",
    "#3 3 3\n",
    "#4 4 4 4\n",
    "#5 5 5 5 5"
   ]
  },
  {
   "cell_type": "code",
   "execution_count": 6,
   "id": "6025d676",
   "metadata": {},
   "outputs": [
    {
     "name": "stdout",
     "output_type": "stream",
     "text": [
      "1 \n",
      "2 2 \n",
      "3 3 3 \n",
      "4 4 4 4 \n",
      "5 5 5 5 5 \n"
     ]
    }
   ],
   "source": [
    "for i in range(1, 6):\n",
    "    print((str(i) + ' ') * i)\n"
   ]
  },
  {
   "cell_type": "code",
   "execution_count": 7,
   "id": "00b2f935",
   "metadata": {},
   "outputs": [],
   "source": [
    "#List is given below:\n",
    "#numbers = [12, 75, 150, 180, 145, 525, 50]\n",
    "#Write a program to display only those numbers from a list that satisfy the following conditions\n",
    "#i. The number must be divisible by five\n",
    "#ii. If the number is greater than 150, then skip it and move to the next number\n",
    "#iii. If the number is greater than 500, then stop the loop"
   ]
  },
  {
   "cell_type": "code",
   "execution_count": 10,
   "id": "d050a24b",
   "metadata": {},
   "outputs": [
    {
     "name": "stdout",
     "output_type": "stream",
     "text": [
      "75\n",
      "150\n",
      "145\n",
      "50\n"
     ]
    }
   ],
   "source": [
    "numbers = [12, 75, 150, 180, 145, 525, 50]\n",
    "\n",
    "for num in numbers:\n",
    "    if num % 5 == 0:\n",
    "        if num > 150:\n",
    "            continue\n",
    "        elif num > 500:\n",
    "            break\n",
    "        print(num)\n"
   ]
  },
  {
   "cell_type": "code",
   "execution_count": null,
   "id": "ba163ef4",
   "metadata": {},
   "outputs": [],
   "source": [
    "#Display Fibonacci series up to 10 terms\n",
    "#The Fibonacci Sequence is a series of numbers. The next number is found by adding up the two numbers before it. \n",
    "#The first two numbers are 0 and 1.\n",
    "#For example, 0, 1, 1, 2, 3, 5, 8, 13, 21. The next number in this series above is 13+21 = 34.\n"
   ]
  },
  {
   "cell_type": "code",
   "execution_count": 18,
   "id": "ee4e211b",
   "metadata": {},
   "outputs": [
    {
     "name": "stdout",
     "output_type": "stream",
     "text": [
      "Fibonacci Series up to 10 terms:\n",
      "0 1 1 2 3 5 8 13 21 34 "
     ]
    }
   ],
   "source": [
    "a, b = 0, 1\n",
    "\n",
    "print(\"Fibonacci Series up to 10 terms:\")\n",
    "for i in range(10):\n",
    "    print(a, end=\" \")\n",
    "    a, b = b, a + b"
   ]
  },
  {
   "cell_type": "code",
   "execution_count": null,
   "id": "2ae9bb3e",
   "metadata": {},
   "outputs": [],
   "source": [
    "#Given two lists, l1 and l2, write a program to create a third list l3 by picking an odd-index element from the list l1 and even index elements from the list l2.\n",
    "#Given:\n",
    "#l1 = [3, 6, 9, 12, 15, 18, 21]\n",
    "#l2 = [4, 8, 12, 16, 20, 24, 28]"
   ]
  },
  {
   "cell_type": "code",
   "execution_count": 15,
   "id": "d625029b",
   "metadata": {},
   "outputs": [
    {
     "name": "stdout",
     "output_type": "stream",
     "text": [
      "List l3: [6, 12, 18, 4, 12, 20, 28]\n"
     ]
    }
   ],
   "source": [
    "l1 = [3, 6, 9, 12, 15, 18, 21]\n",
    "l2 = [4, 8, 12, 16, 20, 24, 28]\n",
    "\n",
    "l3 = l1[1::2] + l2[::2]\n",
    "print(\"List l3:\", l3)\n"
   ]
  },
  {
   "cell_type": "code",
   "execution_count": 16,
   "id": "992cedcf",
   "metadata": {},
   "outputs": [],
   "source": [
    "#Write a program to use the loop to find the factorial of a given number.\n",
    "#The factorial (symbol: !) means to multiply all whole numbers from the chosen number down to 1.\n",
    "#For example: calculate the factorial of 5 5! = 5 × 4 × 3 × 2 × 1 = 120\n"
   ]
  },
  {
   "cell_type": "code",
   "execution_count": null,
   "id": "33eb09fb",
   "metadata": {},
   "outputs": [],
   "source": [
    "def factorial(n):\n",
    "    result = 1\n",
    "    for i in range(1, n + 1):\n",
    "        result *= i\n",
    "    return result\n",
    "\n",
    "user_input = input(\"Enter a non-negative integer: \")\n",
    "if user_input.isdigit():\n",
    "    user_input = int(user_input)\n",
    "    if user_input >= 0:\n",
    "        print(f\"The factorial of {user_input} is: {factorial(user_input)}\")\n",
    "    else:\n",
    "        print(\"Please enter a non-negative integer.\")\n",
    "else:\n",
    "    print(\"Invalid input. Please enter a valid non-negative integer.\")\n"
   ]
  },
  {
   "cell_type": "code",
   "execution_count": null,
   "id": "a8412fbc",
   "metadata": {},
   "outputs": [],
   "source": []
  },
  {
   "cell_type": "code",
   "execution_count": null,
   "id": "7dbbde94",
   "metadata": {},
   "outputs": [],
   "source": []
  },
  {
   "cell_type": "code",
   "execution_count": null,
   "id": "39c53e9f",
   "metadata": {},
   "outputs": [],
   "source": []
  },
  {
   "cell_type": "code",
   "execution_count": null,
   "id": "02591ce2",
   "metadata": {},
   "outputs": [],
   "source": []
  },
  {
   "cell_type": "code",
   "execution_count": null,
   "id": "8555ac7c",
   "metadata": {},
   "outputs": [],
   "source": []
  }
 ],
 "metadata": {
  "kernelspec": {
   "display_name": "Python 3 (ipykernel)",
   "language": "python",
   "name": "python3"
  },
  "language_info": {
   "codemirror_mode": {
    "name": "ipython",
    "version": 3
   },
   "file_extension": ".py",
   "mimetype": "text/x-python",
   "name": "python",
   "nbconvert_exporter": "python",
   "pygments_lexer": "ipython3",
   "version": "3.11.5"
  }
 },
 "nbformat": 4,
 "nbformat_minor": 5
}
